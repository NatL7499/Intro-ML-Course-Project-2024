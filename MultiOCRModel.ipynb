{
  "nbformat": 4,
  "nbformat_minor": 0,
  "metadata": {
    "colab": {
      "provenance": [],
      "machine_shape": "hm",
      "gpuType": "A100"
    },
    "kernelspec": {
      "name": "python3",
      "display_name": "Python 3"
    },
    "language_info": {
      "name": "python"
    },
    "accelerator": "GPU"
  },
  "cells": [
    {
      "cell_type": "markdown",
      "source": [
        "Import necessary libraries\n"
      ],
      "metadata": {
        "id": "RthUollGtAs8"
      }
    },
    {
      "cell_type": "code",
      "source": [
        "import os\n",
        "import zipfile\n",
        "import random\n",
        "import json\n",
        "import string\n",
        "import ast\n",
        "import numpy as np\n",
        "import torch\n",
        "import requests\n",
        "from torch import nn, optim\n",
        "import torch.nn.functional as F\n",
        "from torch.utils.data import Dataset, DataLoader, random_split\n",
        "from torch.nn.utils.rnn import pad_sequence\n",
        "from torchvision import transforms\n",
        "from torchvision.transforms import functional as TF\n",
        "from tqdm import tqdm\n",
        "from PIL import Image, ImageDraw, ImageFont\n",
        "import matplotlib.pyplot as plt"
      ],
      "metadata": {
        "id": "hsOraVPEgmCg"
      },
      "execution_count": 1,
      "outputs": []
    },
    {
      "cell_type": "markdown",
      "source": [
        "Check for cuda"
      ],
      "metadata": {
        "id": "YOhokqZWtFG4"
      }
    },
    {
      "cell_type": "code",
      "source": [
        "device = torch.device(\"cuda\" if torch.cuda.is_available() else \"cpu\")\n",
        "print(f\"Using device: {device}\")"
      ],
      "metadata": {
        "colab": {
          "base_uri": "https://localhost:8080/"
        },
        "id": "SxFNIT4uhZeC",
        "outputId": "6df848d1-d900-4f1c-834e-87148eb710e8"
      },
      "execution_count": 2,
      "outputs": [
        {
          "output_type": "stream",
          "name": "stdout",
          "text": [
            "Using device: cuda\n"
          ]
        }
      ]
    },
    {
      "cell_type": "markdown",
      "source": [
        "Extract Dataset"
      ],
      "metadata": {
        "id": "kcAsEx11tHQU"
      }
    },
    {
      "cell_type": "code",
      "execution_count": 3,
      "metadata": {
        "id": "Eag4OkdGgkXf",
        "colab": {
          "base_uri": "https://localhost:8080/"
        },
        "outputId": "02224488-0e21-4e80-e48f-fca2217bce32"
      },
      "outputs": [
        {
          "output_type": "stream",
          "name": "stdout",
          "text": [
            "\n",
            "Dataset already extracted at nist_dataset/extracted/\n"
          ]
        }
      ],
      "source": [
        "root_dir = ''\n",
        "print(root_dir)\n",
        "\n",
        "data_dir = os.path.join(root_dir,\"nist_dataset/\")\n",
        "data_resource = \"https://s3.amazonaws.com/nist-srd/SD19/by_class.zip\"\n",
        "zip_dir = os.path.join(data_dir, \"by_class.zip\")\n",
        "extracted_data_dir = os.path.join(data_dir, \"extracted/\")\n",
        "\n",
        "if not os.path.exists(data_dir):\n",
        "    os.makedirs(data_dir)\n",
        "\n",
        "    with open(zip_dir, 'wb') as out_file:\n",
        "        content = requests.get(data_resource, stream=True).content\n",
        "        out_file.write(content)\n",
        "\n",
        "    with zipfile.ZipFile(zip_dir, 'r') as zip_ref:\n",
        "        # Get list of all files in the ZIP\n",
        "        file_list = zip_ref.namelist()\n",
        "\n",
        "        # Show progress\n",
        "        with tqdm(total=len(file_list), desc=\"Extracting Files\", unit=\"file\") as progress_bar:\n",
        "            for file in file_list:\n",
        "                zip_ref.extract(file, extracted_data_dir)  # Extract each file\n",
        "                progress_bar.update(1)\n",
        "else:\n",
        "    print(f\"Dataset already extracted at {extracted_data_dir}\")"
      ]
    },
    {
      "cell_type": "markdown",
      "source": [
        "Extract data from zip"
      ],
      "metadata": {
        "id": "rmsqcqQdtJZQ"
      }
    },
    {
      "cell_type": "code",
      "source": [
        "zip_path = \"nist_dataset/by_class.zip\"  # Path to zip file\n",
        "extract_dir = \"by_class\"  # Directory where the dataset will be extracted\n",
        "\n",
        "if not os.path.exists(extract_dir):\n",
        "    with zipfile.ZipFile(zip_path, 'r') as zip_ref:\n",
        "        # Get list of all files in the ZIP\n",
        "        file_list = zip_ref.namelist()\n",
        "\n",
        "        # Show progress\n",
        "        with tqdm(total=len(file_list), desc=\"Extracting Files\", unit=\"file\") as progress_bar:\n",
        "            for file in file_list:\n",
        "                zip_ref.extract(file, extract_dir)  # Extract each file\n",
        "                progress_bar.update(1)\n",
        "else:\n",
        "    print(f\"Dataset already extracted at {extract_dir}\")\n"
      ],
      "metadata": {
        "colab": {
          "base_uri": "https://localhost:8080/"
        },
        "id": "M4r4f_mHhS-v",
        "outputId": "1bfa860b-d754-44a2-f582-e971e6f6359e"
      },
      "execution_count": 5,
      "outputs": [
        {
          "output_type": "stream",
          "name": "stdout",
          "text": [
            "Dataset already extracted at by_class\n"
          ]
        }
      ]
    },
    {
      "cell_type": "markdown",
      "source": [
        "Parse through data folders for images"
      ],
      "metadata": {
        "id": "rFNfko5ItNT6"
      }
    },
    {
      "cell_type": "code",
      "source": [
        "img_paths, labels = [], [] # empty lists to store file paths and labels\n",
        "\n",
        "ascii_folders = os.listdir(\"by_class/by_class/\")\n",
        "for ascii_num in ascii_folders:\n",
        "    # Convert folder name from hexadecimal to ASCII character\n",
        "    label = chr(int(ascii_num, 16))\n",
        "    train_folder = f\"by_class/by_class/{ascii_num}/train_{ascii_num}\"\n",
        "\n",
        "    if os.path.exists(train_folder):\n",
        "        # Loop through each file in the train_folder\n",
        "        for file in os.listdir(train_folder):\n",
        "            if file.endswith(\".png\"):\n",
        "                # Add full path to the list of image paths\n",
        "                img_paths.append(os.path.join(train_folder, file))\n",
        "                labels.append(label)\n",
        "\n",
        "print(f\"Total samples: {len(img_paths)}\")"
      ],
      "metadata": {
        "colab": {
          "base_uri": "https://localhost:8080/"
        },
        "id": "ou15l-DIh32x",
        "outputId": "adac6308-7160-40fd-e6e7-597d2e75ba67"
      },
      "execution_count": 6,
      "outputs": [
        {
          "output_type": "stream",
          "name": "stdout",
          "text": [
            "Total samples: 731668\n"
          ]
        }
      ]
    },
    {
      "cell_type": "markdown",
      "source": [
        "Generate sythetic dataset for multiple-character recognition"
      ],
      "metadata": {
        "id": "Vt3_430-tRKx"
      }
    },
    {
      "cell_type": "code",
      "source": [
        "# Function to generate synthetic multi-character data\n",
        "def generate_synthetic_data(\n",
        "    char_images, labels, output_dir, num_samples=50000, max_length=10, image_height=32\n",
        "):\n",
        "    os.makedirs(output_dir, exist_ok=True)  # Create output directory\n",
        "    # Clear labels.txt at the start\n",
        "    open(os.path.join(output_dir, \"labels.txt\"), \"w\").close()\n",
        "\n",
        "    for i in tqdm(range(num_samples), desc=\"Generating Data\"):\n",
        "        line_images = []  # Stores character images\n",
        "        line_label = []   # Stores character labels\n",
        "        total_width = 0   # Tracks total width for the line canvas\n",
        "\n",
        "        # Choose line length\n",
        "        line_len = 5\n",
        "\n",
        "        # Randomly sample characters for the line\n",
        "        sampled_indices = random.choices(range(len(char_images)), k=line_len)\n",
        "        for idx in sampled_indices:\n",
        "            # Open and convert character image to grayscale\n",
        "            selected_image = Image.open(char_images[idx]).convert('L')\n",
        "            line_images.append(selected_image)  # Add image to list\n",
        "            line_label.append(labels[idx])      # Add label to list\n",
        "\n",
        "        # Calculate total width of the line\n",
        "        char_spacing = 5  # Spacing between characters\n",
        "        max_char_width = 50  # Maximum width for each character\n",
        "        for img in line_images:\n",
        "            aspect_ratio = img.size[0] / img.size[1]  # width / height for image scaling\n",
        "            new_width = min(int(image_height * aspect_ratio), max_char_width)\n",
        "            total_width += new_width + char_spacing\n",
        "\n",
        "        total_width -= char_spacing  # Remove spacing after the last character\n",
        "\n",
        "        # Create a blank canvas to draw\n",
        "        character_line = Image.new('L', (total_width, image_height), color=255)\n",
        "\n",
        "        # Paste resized characters onto the canvas\n",
        "        x_offset = 0\n",
        "        for img in line_images: # Iterate through\n",
        "            aspect_ratio = img.size[0] / img.size[1]\n",
        "            new_width = min(int(image_height * aspect_ratio), max_char_width)\n",
        "            resized_img = img.resize((new_width, image_height)) # Resize image\n",
        "            character_line.paste(resized_img, (x_offset, 0))    # Draw character into current location\n",
        "            x_offset += new_width + char_spacing # Calculate new x offset\n",
        "\n",
        "        # Save the synthetic line image\n",
        "        image_filename = f\"line_{i:04d}.png\"\n",
        "        character_line.save(os.path.join(output_dir, image_filename))\n",
        "\n",
        "        # Write the fine name and list into labels.txt (ground truth)\n",
        "        with open(os.path.join(output_dir, \"labels.txt\"), \"a\") as label_file:\n",
        "            label_file.write(f\"{image_filename} {str(line_label)}\\n\")\n",
        "\n",
        "# Generate data\n",
        "output_dir = 'synthetic_data'                           # Control number of samples here\n",
        "generate_synthetic_data(img_paths, labels, output_dir, num_samples=50000, max_length=10, image_height=32)"
      ],
      "metadata": {
        "colab": {
          "base_uri": "https://localhost:8080/"
        },
        "id": "Y_W2lE39hXKI",
        "outputId": "874ee304-6bea-4ebe-cc64-102fede03a96"
      },
      "execution_count": 7,
      "outputs": [
        {
          "output_type": "stream",
          "name": "stderr",
          "text": [
            "Generating Data: 100%|██████████| 50000/50000 [02:04<00:00, 402.08it/s]\n"
          ]
        }
      ]
    },
    {
      "cell_type": "markdown",
      "source": [
        "Map characters to indicies and set number of classes"
      ],
      "metadata": {
        "id": "6JPXtKeqtV2W"
      }
    },
    {
      "cell_type": "code",
      "source": [
        "# Define the character set\n",
        "# 0 is reserved for the CTC blank token\n",
        "characters = string.ascii_lowercase + string.ascii_uppercase + string.digits\n",
        "num_classes = len(characters) + 1  # +1 for the blank\n",
        "\n",
        "# Create a dictionary to map indices to characters\n",
        "# So start mapping from 1\n",
        "idx_to_char = {i + 1: char for i, char in enumerate(characters)}\n",
        "idx_to_char[0] = ''  # Blank token"
      ],
      "metadata": {
        "id": "HndO_UK_5h0j"
      },
      "execution_count": 63,
      "outputs": []
    },
    {
      "cell_type": "markdown",
      "source": [
        "Create dataset object to hold sample data"
      ],
      "metadata": {
        "id": "S4-D8HGy6v6j"
      }
    },
    {
      "cell_type": "code",
      "source": [
        "class MultiCharacterOCRDataset(Dataset):\n",
        "    def __init__(self, data_dir, transform=None):\n",
        "        self.data_dir = data_dir\n",
        "        self.transform = transform\n",
        "        self.image_paths = []\n",
        "        self.labels = []\n",
        "\n",
        "        # Read the label file\n",
        "        label_path = os.path.join(data_dir, \"labels.txt\")\n",
        "        with open(label_path, \"r\") as label_file:\n",
        "            for line in label_file:\n",
        "                # Expected format: image_filename \"label_string\"\n",
        "                parts = line.strip().split(\" \", 1)\n",
        "                if len(parts) != 2: # Check for 2 lines exactly\n",
        "                    continue  # Skip malformed lines\n",
        "                image_file, label_str = parts # unpack\n",
        "                self.image_paths.append(os.path.join(data_dir, image_file)) # Construct full path to image\n",
        "                label = ast.literal_eval(label_str)  # Convert string rep to list\n",
        "                # Map characters to indices, default to blank (0) if character not found\n",
        "                #label_idx = [char_2_idx.get(char, blank_idx) for char in label]\n",
        "                label_idx = [char_2_idx[char] for char in label]\n",
        "                self.labels.append(label_idx) # add label to labels list\n",
        "\n",
        "    def __len__(self):\n",
        "        return len(self.image_paths)\n",
        "\n",
        "    def __getitem__(self, idx):\n",
        "        # Load image in grayscale\n",
        "        image = Image.open(self.image_paths[idx]).convert(\"L\")\n",
        "        if self.transform: # Apply transformation if needed\n",
        "            image = self.transform(image)\n",
        "        label = self.labels[idx]    # Retreive label, return label and image\n",
        "        return image, torch.tensor(label, dtype=torch.long)\n",
        "\n",
        "char_2_idx = {char: i + 1 for i, char in enumerate(characters)}\n",
        "char_2_idx[''] = 0  # Blank token"
      ],
      "metadata": {
        "id": "9zyNffREn_9m"
      },
      "execution_count": 54,
      "outputs": []
    },
    {
      "cell_type": "markdown",
      "source": [
        "Define transforms and dataset"
      ],
      "metadata": {
        "id": "246BDn3Btaku"
      }
    },
    {
      "cell_type": "code",
      "source": [
        "# Define transformations\n",
        "transform = transforms.Compose([\n",
        "    transforms.Resize((32, 256)),  # Resize to 32 x 256 for consistency\n",
        "    transforms.ToTensor(),  # Convert to tensor\n",
        "    transforms.Normalize((0.5,), (0.5,))  # Normalize to [-1, 1]\n",
        "])\n",
        "\n",
        "blank_idx = 0  # blank token\n",
        "# Create a mapping from characters to indices\n",
        "# Start indexing from 1 since 0 is reserved for the blank token\n",
        "\n",
        "\n",
        "# Instantiate the dataset\n",
        "data_dir = \"synthetic_data\"\n",
        "dataset = MultiCharacterOCRDataset(data_dir, transform=transform)\n"
      ],
      "metadata": {
        "id": "NeW6nlHrMJKh"
      },
      "execution_count": 55,
      "outputs": []
    },
    {
      "cell_type": "markdown",
      "source": [
        "Visualize some dataset samples"
      ],
      "metadata": {
        "id": "6qkz0UDhtiYr"
      }
    },
    {
      "cell_type": "code",
      "source": [
        "# Create a reverse mapping from indices to characters\n",
        "idx_2_char = {idx: char for char, idx in char_2_idx.items()}\n",
        "\n",
        "# Add the blank token to the idx_to_char mapping\n",
        "idx_2_char[blank_idx] = ''  # Empty string or any placeholder for the blank token\n",
        "\n",
        "# Visualize some samples\n",
        "for i in range(3):\n",
        "    characters = []\n",
        "    image, label = dataset[i]\n",
        "    plt.imshow(image.squeeze(0).numpy(), cmap='gray')\n",
        "    # Convert label indices back to characters\n",
        "    # Iterate through each index in the 'label' list\n",
        "    for idx in label:\n",
        "        # Convert the tensor element to a standard Python integer\n",
        "        index = idx.item()\n",
        "\n",
        "        # Retrieve the corresponding character from the 'idx_to_char' dictionary\n",
        "        # If the index is not found, use '?' as a placeholder\n",
        "        char = idx_2_char.get(index, '?')\n",
        "\n",
        "        # Append the character to the 'characters' list\n",
        "        characters.append(char)\n",
        "\n",
        "    # Concatenate all characters into a single string\n",
        "    label_chars = ''.join(characters)\n",
        "\n",
        "    plt.title(f\"Label: {label_chars}\")\n",
        "    plt.axis('off')\n",
        "    plt.show()\n"
      ],
      "metadata": {
        "colab": {
          "base_uri": "https://localhost:8080/",
          "height": 329
        },
        "id": "VKssX-wfn-jg",
        "outputId": "f709e565-4ed0-42c6-8bd4-0a72cb95a5b8"
      },
      "execution_count": 56,
      "outputs": [
        {
          "output_type": "display_data",
          "data": {
            "text/plain": [
              "<Figure size 640x480 with 1 Axes>"
            ],
            "image/png": "[encoded data removed]"
          },
          "metadata": {}
        },
        {
          "output_type": "display_data",
          "data": {
            "text/plain": [
              "<Figure size 640x480 with 1 Axes>"
            ],
            "image/png": "[encoded data removed]"
          },
          "metadata": {}
        },
        {
          "output_type": "display_data",
          "data": {
            "text/plain": [
              "<Figure size 640x480 with 1 Axes>"
            ],
            "image/png": "[encoded data removed]"
          },
          "metadata": {}
        }
      ]
    },
    {
      "cell_type": "markdown",
      "source": [
        "Split dataset samples into train, validation, and test"
      ],
      "metadata": {
        "id": "GOYrmnaotk46"
      }
    },
    {
      "cell_type": "code",
      "source": [
        "\n",
        "# Total number of samples\n",
        "dataset_size = len(dataset)\n",
        "\n",
        "# Define the split ratios\n",
        "train_ratio = 0.8\n",
        "val_ratio = 0.1\n",
        "test_ratio = 0.1\n",
        "\n",
        "# Compute split sizes\n",
        "train_size = int(train_ratio * dataset_size)\n",
        "val_size = int(val_ratio * dataset_size)\n",
        "test_size = dataset_size - train_size - val_size  # Ensures no rounding errors\n",
        "\n",
        "# Perform the split\n",
        "train_dataset, val_dataset, test_dataset = random_split(\n",
        "    dataset, [train_size, val_size, test_size]\n",
        ")\n",
        "\n",
        "print(f\"Training samples: {len(train_dataset)}\")\n",
        "print(f\"Validation samples: {len(val_dataset)}\")\n",
        "print(f\"Test samples: {len(test_dataset)}\")"
      ],
      "metadata": {
        "colab": {
          "base_uri": "https://localhost:8080/"
        },
        "id": "1OPLljA4iCTy",
        "outputId": "549e2ff5-8ad2-4bf3-c709-ca8a71bea822"
      },
      "execution_count": 57,
      "outputs": [
        {
          "output_type": "stream",
          "name": "stdout",
          "text": [
            "Training samples: 40000\n",
            "Validation samples: 5000\n",
            "Test samples: 5000\n"
          ]
        }
      ]
    },
    {
      "cell_type": "markdown",
      "source": [
        "Initailize dataloaders"
      ],
      "metadata": {
        "id": "PGd10nHJtoeg"
      }
    },
    {
      "cell_type": "code",
      "source": [
        "# Batch size\n",
        "batch_size = 64\n",
        "\n",
        "# Create DataLoaders\n",
        "train_loader = DataLoader(train_dataset, batch_size=batch_size, shuffle=True, num_workers=2)\n",
        "val_loader = DataLoader(val_dataset, batch_size=batch_size, shuffle=False, num_workers=2)\n",
        "test_loader = DataLoader(test_dataset, batch_size=batch_size, shuffle=False, num_workers=2)\n",
        "\n",
        "print(f\"Train batches: {len(train_loader)}\")\n",
        "print(f\"Validation batches: {len(val_loader)}\")\n",
        "print(f\"Test batches: {len(test_loader)}\")"
      ],
      "metadata": {
        "colab": {
          "base_uri": "https://localhost:8080/"
        },
        "id": "NWrEbY7OiDuU",
        "outputId": "34d5590d-d547-4a8c-d173-8ef21ef1ad06"
      },
      "execution_count": 58,
      "outputs": [
        {
          "output_type": "stream",
          "name": "stdout",
          "text": [
            "Train batches: 625\n",
            "Validation batches: 79\n",
            "Test batches: 79\n"
          ]
        }
      ]
    },
    {
      "cell_type": "markdown",
      "source": [
        "Define OCR Model"
      ],
      "metadata": {
        "id": "rKH0zTButw38"
      }
    },
    {
      "cell_type": "code",
      "source": [
        "class OCRModel(nn.Module):\n",
        "    def __init__(self, num_classes=num_classes, hidden_size=256, num_layers=2):\n",
        "        super(OCRModel, self).__init__()\n",
        "\n",
        "        # Convolutional layers for feature extraction\n",
        "        self.conv1 = nn.Conv2d(1, 64, kernel_size=3, stride=1, padding=1)  # Input: (1, 32, 256), Output: (64, 32, 256)\n",
        "        self.bn1 = nn.BatchNorm2d(64)  # Batch normalization for the first convolutional layer\n",
        "        self.conv2 = nn.Conv2d(64, 128, kernel_size=3, stride=1, padding=1) # Input: (64, 32, 256), Output: (128, 32, 256)\n",
        "        self.bn2 = nn.BatchNorm2d(128)# Batch normalization for the second convolutional layer\n",
        "        self.pool = nn.MaxPool2d(2, 2)# Pooling reduces spatial dimensions by half (kernel_size=2, stride=2)\n",
        "\n",
        "        # LSTM for sequence modeling\n",
        "        # After three pooling layers:\n",
        "        # Height: 32 -> 16 -> 8 -> 4\n",
        "        # Width: 256 -> 128 -> 64 -> 32\n",
        "        self.lstm_input_size = 256 * 4  # channels * height after pooling (256 * 4 = 1024)\n",
        "        self.lstm_hidden_size = hidden_size# Hidden size for the LSTM\n",
        "        self.lstm_num_layers = num_layers# Number of LSTM layers\n",
        "\n",
        "        # Using bidirectional LSTM\n",
        "        self.lstm = nn.LSTM(input_size=self.lstm_input_size,# Input size: 1024\n",
        "                            hidden_size=self.lstm_hidden_size,\n",
        "                            num_layers=self.lstm_num_layers,\n",
        "                            batch_first=True,\n",
        "                            bidirectional=True)\n",
        "\n",
        "        # Fully connected layer to predict character classes\n",
        "        # Multiply hidden size by 2 for bidirectional LSTM\n",
        "        self.fc = nn.Linear(self.lstm_hidden_size * 2, num_classes)\n",
        "\n",
        "    def forward(self, x):\n",
        "        # x: [batch_size, 1, 32, 256]\n",
        "        # First convolutional block: Convolution -> BatchNorm -> ReLU -> Pooling\n",
        "        x = self.pool(F.relu(self.bn1(self.conv1(x))))  # [batch_size, 64, 16, 128]\n",
        "        #x = self.pool(F.relu(self.conv1(x)))  # [batch_size, 64, 16, 128]\n",
        "        # Second convolutional block\n",
        "        x = self.pool(F.relu(self.bn2(self.conv2(x))))  # [batch_size, 128, 8, 64]\n",
        "\n",
        "\n",
        "        # Reshape for LSTM input\n",
        "        batch_size = x.size(0)  # Batch size\n",
        "        seq_len = x.size(3)  # Sequence length (width after pooling)\n",
        "        # Current x shape: [batch_size, 256, 4, 32]\n",
        "\n",
        "        # Permute and reshape: [batch_size, seq_len, channels * height]\n",
        "        x = x.permute(0, 3, 1, 2).contiguous()# Permute to [batch_size, seq_len=32, channels=256, height=4]\n",
        "        x = x.view(batch_size, seq_len, -1)  # Flatten channels and height: [batch_size, 32, 256*4=1024]\n",
        "\n",
        "\n",
        "        # LSTM\n",
        "        x, _ = self.lstm(x)  # Output: [batch_size, 32, hidden_size*2]\n",
        "\n",
        "        # Fully connected layer\n",
        "        x = self.fc(x)  # Output: [batch_size, 32, num_classes]\n",
        "\n",
        "        return x\n"
      ],
      "metadata": {
        "id": "3w5NW4YLoFgR"
      },
      "execution_count": 65,
      "outputs": []
    },
    {
      "cell_type": "markdown",
      "source": [
        "Greedy Decoding Method"
      ],
      "metadata": {
        "id": "ffu-rVEKtzI6"
      }
    },
    {
      "cell_type": "code",
      "source": [
        "#     Decodes the output of model using greedy approach.\n",
        "def greedy_decode(output, blank=0):\n",
        "    # Find the class with the maximum probability at each time step\n",
        "    max_probs, max_idxs = torch.max(output, dim=2)  # [T, N]\n",
        "    # Transpose max_idxs to have the batch dimension first\n",
        "    max_idxs = max_idxs.transpose(0, 1)  # [N, T]\n",
        "    decoded_sequences = [] # List to store the decoded sequences for each batch item\n",
        "    # Iterate over each sequence in the batch\n",
        "    for seq in max_idxs:\n",
        "        decoded = []\n",
        "        prev = blank # Track the previous index\n",
        "            # Iterate over each index in the sequence\n",
        "        for idx in seq:\n",
        "            idx = idx.item()\n",
        "                # Append the index if it's not blank and not the same as the previous index\n",
        "            if idx != blank and idx != prev:\n",
        "                decoded.append(idx)\n",
        "            prev = idx  # Update the previous index\n",
        "        decoded_sequences.append(decoded) # Add the decoded sequence to the list\n",
        "    return decoded_sequences"
      ],
      "metadata": {
        "id": "0ai3g72EphJb"
      },
      "execution_count": 14,
      "outputs": []
    },
    {
      "cell_type": "markdown",
      "source": [
        "Plot training/validation metrics"
      ],
      "metadata": {
        "id": "bcUUONAzt2z4"
      }
    },
    {
      "cell_type": "code",
      "source": [
        "def plot_metrics(history):\n",
        "    epochs = range(1, len(history['train_loss']) + 1)\n",
        "\n",
        "    plt.figure(figsize=(12, 15))\n",
        "\n",
        "    # Plot Loss\n",
        "    plt.subplot(3, 1, 1)\n",
        "    plt.plot(epochs, history['train_loss'], 'b-', label='Training Loss')\n",
        "    plt.plot(epochs, history['val_loss'], 'r-', label='Validation Loss')\n",
        "    plt.title('Training and Validation Loss over Epochs')\n",
        "    plt.xlabel('Epoch')\n",
        "    plt.ylabel('Loss')\n",
        "    plt.legend()\n",
        "\n",
        "    # Plot Sequence Accuracy\n",
        "    plt.subplot(3, 1, 2)\n",
        "    plt.plot(epochs, history['train_seq_acc'], 'b-', label='Training Sequence Accuracy')\n",
        "    plt.plot(epochs, history['val_seq_acc'], 'r-', label='Validation Sequence Accuracy')\n",
        "    plt.title('Training and Validation Sequence Accuracy over Epochs')\n",
        "    plt.xlabel('Epoch')\n",
        "    plt.ylabel('Accuracy (%)')\n",
        "    plt.legend()\n",
        "\n",
        "    # Plot Character Accuracy\n",
        "    plt.subplot(3, 1, 3)\n",
        "    plt.plot(epochs, history['train_char_acc'], 'g-', label='Training Character Accuracy')\n",
        "    plt.plot(epochs, history['val_char_acc'], 'y-', label='Validation Character Accuracy')\n",
        "    plt.title('Training and Validation Character Accuracy over Epochs')\n",
        "    plt.xlabel('Epoch')\n",
        "    plt.ylabel('Accuracy (%)')\n",
        "    plt.legend()\n",
        "\n",
        "    plt.show()\n"
      ],
      "metadata": {
        "id": "9859JfeU5JzW"
      },
      "execution_count": 19,
      "outputs": []
    },
    {
      "cell_type": "markdown",
      "source": [
        "Define training and validation loops"
      ],
      "metadata": {
        "id": "-deG-8wjt7Ft"
      }
    },
    {
      "cell_type": "code",
      "source": [
        "# Training function\n",
        "def train_model(model, train_loader, val_loader, num_epochs=10, device='cuda'):\n",
        "    # Move the model to GPU\n",
        "    model.to(device)\n",
        "    model.train()# Set model to training mode\n",
        "    # Initialize history to track metrics\n",
        "    # Define\n",
        "    criterion = nn.CTCLoss(blank=blank_idx, zero_infinity=True)\n",
        "    optimizer = optim.Adam(model.parameters(), lr=0.0001)\n",
        "    scheduler = optim.lr_scheduler.StepLR(optimizer, step_size=5, gamma=0.5)\n",
        "\n",
        "    history = {\n",
        "        'train_loss': [],\n",
        "        'val_loss': [],\n",
        "        'train_char_acc': [],\n",
        "        'val_char_acc': [],\n",
        "        'train_seq_acc': [],\n",
        "        'val_seq_acc': []\n",
        "\n",
        "    }\n",
        "    # Early stopping parameters\n",
        "    best_seq_acc, epochs_no_improve, patience = 0.0, 0, 5\n",
        "\n",
        "\n",
        "    for epoch in range(num_epochs):\n",
        "        running_loss, correct_seqs, total_seqs, correct_chars, total_chars  = 0.0, 0, 0, 0, 0\n",
        "        # Initialize metrics for the current epoch\n",
        "\n",
        "        # Training loop\n",
        "        for batch_idx, (images, labels) in enumerate(tqdm(train_loader, desc=f\"Epoch {epoch+1}/{num_epochs}\")):\n",
        "            # Move data to device\n",
        "            images = images.to(device)\n",
        "            labels = labels.to(device)\n",
        "\n",
        "            # Zero gradients before backpropagation\n",
        "            optimizer.zero_grad()\n",
        "\n",
        "            # Forward pass\n",
        "            outputs = model(images)  # [batch_size, seq_len, num_classes]\n",
        "            outputs = outputs.permute(1, 0, 2) # Transpose for CTC loss: [seq_len, batch_size, num_classes]\n",
        "            outputs = F.log_softmax(outputs, dim=2) # Apply log-softmax for CTC\n",
        "\n",
        "\n",
        "            # Flatten targets for CTC loss\n",
        "            targets = labels.contiguous().view(-1)\n",
        "\n",
        "            # Define input_lengths, target_lengths for CTC\n",
        "            batch_size = images.size(0)\n",
        "            input_lengths = torch.full((batch_size,), outputs.size(0), dtype=torch.long, device=device)  # [batch_size]\n",
        "            target_lengths = torch.full((batch_size,), labels.size(1), dtype=torch.long)  # [batch_size]\n",
        "\n",
        "            #print(\"Targets:\", targets[:5].tolist())\n",
        "\n",
        "            # Compute CTC loss\n",
        "            loss = criterion(outputs, targets, input_lengths, target_lengths)\n",
        "\n",
        "            # Backward pass and optimization\n",
        "            loss.backward()\n",
        "            optimizer.step()\n",
        "\n",
        "            # Accumulate loss\n",
        "\n",
        "            running_loss += loss.item()\n",
        "\n",
        "            # Decode model predictions\n",
        "            decoded_sequences = greedy_decode(outputs.detach().cpu(), blank=blank_idx)\n",
        "            target_sequences = labels.detach().cpu().tolist()\n",
        "\n",
        "            # Compute sequence & character accuracy\n",
        "            for i in range(len(decoded_sequences)):\n",
        "                pred = decoded_sequences[i]  # Predicted seq\n",
        "                target = target_sequences[i]  # Target seq\n",
        "\n",
        "                # Check if the pred seq matches the target seq\n",
        "                if pred == target:\n",
        "                    correct_seqs += 1\n",
        "\n",
        "                # Compute character-level accuracy\n",
        "                for j in range(len(target)):\n",
        "                    if j < len(pred) and pred[j] == target[j]:\n",
        "                        correct_chars += 1\n",
        "                total_chars += len(target)\n",
        "\n",
        "            total_seqs += len(decoded_sequences)\n",
        "\n",
        "        # Compute metrics for train set\n",
        "        epoch_loss = running_loss / len(train_loader)\n",
        "        character_accuracy = correct_chars / total_chars * 100\n",
        "        sequence_accuracy = correct_seqs / total_seqs * 100\n",
        "\n",
        "        # Store validation metrics in history\n",
        "        history['train_loss'].append(epoch_loss)\n",
        "        history['train_char_acc'].append(character_accuracy)\n",
        "        history['train_seq_acc'].append(sequence_accuracy)\n",
        "\n",
        "\n",
        "        print(f\"\\nEpoch [{epoch+1}/{num_epochs}], Loss: {epoch_loss:.4f}, \"\n",
        "              f\"Sequence Accuracy: {sequence_accuracy:.2f}%, \"\n",
        "              f\"Character Accuracy: {character_accuracy:.2f}%\\n\")\n",
        "\n",
        "        # Perform validation\n",
        "        val_loss, val_seq_acc, val_char_acc = validate_model(model, val_loader, device)\n",
        "\n",
        "        history['val_loss'].append(val_loss)\n",
        "        history['val_seq_acc'].append(val_seq_acc)\n",
        "        history['val_char_acc'].append(val_char_acc)\n",
        "\n",
        "        # Save the best model based on validation sequence accuracy\n",
        "        if val_seq_acc > best_seq_acc:\n",
        "            best_seq_acc = val_seq_acc\n",
        "            epochs_no_improve = 0\n",
        "            torch.save(model.state_dict(), \"best_ocr_model.pth\")\n",
        "            print(\"Saved Best Model\\n\")\n",
        "        else:\n",
        "            epochs_no_improve += 1\n",
        "            print(f\"No improvement in sequence accuracy for {epochs_no_improve} epoch(s).\")\n",
        "\n",
        "        # Early stopping\n",
        "        if epochs_no_improve >= patience:\n",
        "            print(\"Early stopping\")\n",
        "            break\n",
        "\n",
        "        scheduler.step()\n",
        "\n",
        "    plot_metrics(history)\n",
        "\n",
        "def validate_model(model, val_loader, device='cuda'):\n",
        "    model.eval()  # Set the model to evaluation mode during validation/inference\n",
        "    criterion = nn.CTCLoss(blank=blank_idx, zero_infinity=True)\n",
        "    running_loss, correct_seqs, total_seqs, correct_chars, total_chars  = 0.0, 0, 0, 0, 0\n",
        "\n",
        "    with torch.no_grad():# Disable gradient comp for validation\n",
        "        for images, labels in tqdm(val_loader, desc=\"Validation\"):\n",
        "            # Move data to device\n",
        "            images = images.to(device)\n",
        "            labels = labels.to(device)\n",
        "\n",
        "            # Forward pass\n",
        "            outputs = model(images)  # [batch_size, seq_len, num_classes]\n",
        "            outputs = outputs.permute(1, 0, 2)  # Transpose for CTC loss]\n",
        "            outputs = F.log_softmax(outputs, dim=2)   # Apply log-softmax for CTC\n",
        "\n",
        "            # Flatten targetsfor CTC\n",
        "            targets = labels.contiguous().view(-1)  # [batch_size * seq_len]\n",
        "\n",
        "            # Define input_lengths and target_lengths for CTC\n",
        "            batch_size = images.size(0)\n",
        "            input_lengths = torch.full((batch_size,), outputs.size(0), dtype=torch.long, device=device)  # [batch_size]\n",
        "            target_lengths = torch.full((batch_size,), labels.size(1), dtype=torch.long)  # [batch_size]\n",
        "\n",
        "            # Compute CTC loss\n",
        "            loss = criterion(outputs, targets, input_lengths, target_lengths)\n",
        "            running_loss += loss.item()\n",
        "\n",
        "            # Decode model predictions\n",
        "            decoded_sequences = greedy_decode(outputs.detach().cpu(), blank=blank_idx)\n",
        "            target_sequences = labels.detach().cpu().tolist()\n",
        "\n",
        "            # Compute sequence & character accuracy\n",
        "            for i in range(len(decoded_sequences)):\n",
        "                pred = decoded_sequences[i]  # Predicted sequence\n",
        "                target = target_sequences[i]  # Target sequence\n",
        "\n",
        "                # Check if the predicted sequence matches the target sequence\n",
        "                if pred == target:\n",
        "                    correct_seqs += 1\n",
        "\n",
        "                # Compute character-level accuracy\n",
        "                for j in range(len(target)):\n",
        "                    if j < len(pred) and pred[j] == target[j]:\n",
        "                        correct_chars += 1\n",
        "                total_chars += len(target)\n",
        "\n",
        "            total_seqs += len(decoded_sequences)\n",
        "\n",
        "\n",
        "    # Compute metrics for the validation set\n",
        "    epoch_loss = running_loss / len(val_loader)\n",
        "    sequence_accuracy = correct_seqs / total_seqs * 100\n",
        "    character_accuracy = correct_chars / total_chars * 100\n",
        "\n",
        "    print(f\"Validation Loss: {epoch_loss:.4f}, \"\n",
        "          f\"Sequence Accuracy: {sequence_accuracy:.2f}%, \"\n",
        "          f\"Character Accuracy: {character_accuracy:.2f}%\\n\")\n",
        "\n",
        "    model.train()\n",
        "    return epoch_loss, sequence_accuracy, character_accuracy"
      ],
      "metadata": {
        "id": "L2QigDV1oYxA"
      },
      "execution_count": 61,
      "outputs": []
    },
    {
      "cell_type": "markdown",
      "source": [
        "Run training block"
      ],
      "metadata": {
        "id": "87NAeYEnt-kH"
      }
    },
    {
      "cell_type": "code",
      "source": [
        "# Instantiate and Train the Model\n",
        "model = OCRModel(num_classes=num_classes, hidden_size=256, num_layers=2)\n",
        "\n",
        "# Start training with history and early stopping\n",
        "train_model(model, train_loader, val_loader, num_epochs=30, device=device)"
      ],
      "metadata": {
        "colab": {
          "base_uri": "https://localhost:8080/",
          "height": 1000
        },
        "id": "4TdK7lUO5P-c",
        "outputId": "e6cbaed6-f2f7-446e-9a7d-bf6244938ab6"
      },
      "execution_count": 67,
      "outputs": [
        {
          "output_type": "stream",
          "name": "stderr",
          "text": [
            "Epoch 1/30: 100%|██████████| 625/625 [00:17<00:00, 35.02it/s]\n"
          ]
        },
        {
          "output_type": "stream",
          "name": "stdout",
          "text": [
            "\n",
            "Epoch [1/30], Loss: 4.7890, Sequence Accuracy: 0.00%, Character Accuracy: 0.00%\n",
            "\n"
          ]
        },
        {
          "output_type": "stream",
          "name": "stderr",
          "text": [
            "Validation: 100%|██████████| 79/79 [00:01<00:00, 43.83it/s]\n"
          ]
        },
        {
          "output_type": "stream",
          "name": "stdout",
          "text": [
            "Validation Loss: 3.9757, Sequence Accuracy: 0.00%, Character Accuracy: 0.00%\n",
            "\n",
            "No improvement in sequence accuracy for 1 epoch(s).\n"
          ]
        },
        {
          "output_type": "stream",
          "name": "stderr",
          "text": [
            "Epoch 2/30: 100%|██████████| 625/625 [00:17<00:00, 35.37it/s]\n"
          ]
        },
        {
          "output_type": "stream",
          "name": "stdout",
          "text": [
            "\n",
            "Epoch [2/30], Loss: 2.9605, Sequence Accuracy: 1.02%, Character Accuracy: 7.23%\n",
            "\n"
          ]
        },
        {
          "output_type": "stream",
          "name": "stderr",
          "text": [
            "Validation: 100%|██████████| 79/79 [00:01<00:00, 44.32it/s]\n"
          ]
        },
        {
          "output_type": "stream",
          "name": "stdout",
          "text": [
            "Validation Loss: 1.4228, Sequence Accuracy: 11.52%, Character Accuracy: 50.48%\n",
            "\n",
            "Saved Best Model\n",
            "\n"
          ]
        },
        {
          "output_type": "stream",
          "name": "stderr",
          "text": [
            "Epoch 3/30: 100%|██████████| 625/625 [00:17<00:00, 35.53it/s]\n"
          ]
        },
        {
          "output_type": "stream",
          "name": "stdout",
          "text": [
            "\n",
            "Epoch [3/30], Loss: 0.9158, Sequence Accuracy: 25.97%, Character Accuracy: 71.28%\n",
            "\n"
          ]
        },
        {
          "output_type": "stream",
          "name": "stderr",
          "text": [
            "Validation: 100%|██████████| 79/79 [00:01<00:00, 44.96it/s]\n"
          ]
        },
        {
          "output_type": "stream",
          "name": "stdout",
          "text": [
            "Validation Loss: 0.6731, Sequence Accuracy: 34.70%, Character Accuracy: 78.62%\n",
            "\n",
            "Saved Best Model\n",
            "\n"
          ]
        },
        {
          "output_type": "stream",
          "name": "stderr",
          "text": [
            "Epoch 4/30: 100%|██████████| 625/625 [00:17<00:00, 35.25it/s]\n"
          ]
        },
        {
          "output_type": "stream",
          "name": "stdout",
          "text": [
            "\n",
            "Epoch [4/30], Loss: 0.5858, Sequence Accuracy: 39.54%, Character Accuracy: 81.58%\n",
            "\n"
          ]
        },
        {
          "output_type": "stream",
          "name": "stderr",
          "text": [
            "Validation: 100%|██████████| 79/79 [00:01<00:00, 44.87it/s]\n"
          ]
        },
        {
          "output_type": "stream",
          "name": "stdout",
          "text": [
            "Validation Loss: 0.5282, Sequence Accuracy: 41.62%, Character Accuracy: 83.14%\n",
            "\n",
            "Saved Best Model\n",
            "\n"
          ]
        },
        {
          "output_type": "stream",
          "name": "stderr",
          "text": [
            "Epoch 5/30: 100%|██████████| 625/625 [00:18<00:00, 34.64it/s]\n"
          ]
        },
        {
          "output_type": "stream",
          "name": "stdout",
          "text": [
            "\n",
            "Epoch [5/30], Loss: 0.4873, Sequence Accuracy: 44.66%, Character Accuracy: 84.29%\n",
            "\n"
          ]
        },
        {
          "output_type": "stream",
          "name": "stderr",
          "text": [
            "Validation: 100%|██████████| 79/79 [00:01<00:00, 45.41it/s]\n"
          ]
        },
        {
          "output_type": "stream",
          "name": "stdout",
          "text": [
            "Validation Loss: 0.4728, Sequence Accuracy: 43.58%, Character Accuracy: 84.34%\n",
            "\n",
            "Saved Best Model\n",
            "\n"
          ]
        },
        {
          "output_type": "stream",
          "name": "stderr",
          "text": [
            "Epoch 6/30: 100%|██████████| 625/625 [00:17<00:00, 35.00it/s]\n"
          ]
        },
        {
          "output_type": "stream",
          "name": "stdout",
          "text": [
            "\n",
            "Epoch [6/30], Loss: 0.4277, Sequence Accuracy: 48.42%, Character Accuracy: 85.98%\n",
            "\n"
          ]
        },
        {
          "output_type": "stream",
          "name": "stderr",
          "text": [
            "Validation: 100%|██████████| 79/79 [00:01<00:00, 45.64it/s]\n"
          ]
        },
        {
          "output_type": "stream",
          "name": "stdout",
          "text": [
            "Validation Loss: 0.4345, Sequence Accuracy: 46.56%, Character Accuracy: 85.13%\n",
            "\n",
            "Saved Best Model\n",
            "\n"
          ]
        },
        {
          "output_type": "stream",
          "name": "stderr",
          "text": [
            "Epoch 7/30: 100%|██████████| 625/625 [00:17<00:00, 35.30it/s]\n"
          ]
        },
        {
          "output_type": "stream",
          "name": "stdout",
          "text": [
            "\n",
            "Epoch [7/30], Loss: 0.4066, Sequence Accuracy: 49.70%, Character Accuracy: 86.51%\n",
            "\n"
          ]
        },
        {
          "output_type": "stream",
          "name": "stderr",
          "text": [
            "Validation: 100%|██████████| 79/79 [00:01<00:00, 45.96it/s]\n"
          ]
        },
        {
          "output_type": "stream",
          "name": "stdout",
          "text": [
            "Validation Loss: 0.4179, Sequence Accuracy: 48.16%, Character Accuracy: 85.64%\n",
            "\n",
            "Saved Best Model\n",
            "\n"
          ]
        },
        {
          "output_type": "stream",
          "name": "stderr",
          "text": [
            "Epoch 8/30: 100%|██████████| 625/625 [00:17<00:00, 35.62it/s]\n"
          ]
        },
        {
          "output_type": "stream",
          "name": "stdout",
          "text": [
            "\n",
            "Epoch [8/30], Loss: 0.3885, Sequence Accuracy: 50.90%, Character Accuracy: 86.99%\n",
            "\n"
          ]
        },
        {
          "output_type": "stream",
          "name": "stderr",
          "text": [
            "Validation: 100%|██████████| 79/79 [00:01<00:00, 44.74it/s]\n"
          ]
        },
        {
          "output_type": "stream",
          "name": "stdout",
          "text": [
            "Validation Loss: 0.4105, Sequence Accuracy: 49.00%, Character Accuracy: 86.24%\n",
            "\n",
            "Saved Best Model\n",
            "\n"
          ]
        },
        {
          "output_type": "stream",
          "name": "stderr",
          "text": [
            "Epoch 9/30: 100%|██████████| 625/625 [00:17<00:00, 35.83it/s]\n"
          ]
        },
        {
          "output_type": "stream",
          "name": "stdout",
          "text": [
            "\n",
            "Epoch [9/30], Loss: 0.3750, Sequence Accuracy: 51.73%, Character Accuracy: 87.35%\n",
            "\n"
          ]
        },
        {
          "output_type": "stream",
          "name": "stderr",
          "text": [
            "Validation: 100%|██████████| 79/79 [00:01<00:00, 46.40it/s]\n"
          ]
        },
        {
          "output_type": "stream",
          "name": "stdout",
          "text": [
            "Validation Loss: 0.4000, Sequence Accuracy: 49.20%, Character Accuracy: 86.26%\n",
            "\n",
            "Saved Best Model\n",
            "\n"
          ]
        },
        {
          "output_type": "stream",
          "name": "stderr",
          "text": [
            "Epoch 10/30: 100%|██████████| 625/625 [00:17<00:00, 35.00it/s]\n"
          ]
        },
        {
          "output_type": "stream",
          "name": "stdout",
          "text": [
            "\n",
            "Epoch [10/30], Loss: 0.3620, Sequence Accuracy: 52.80%, Character Accuracy: 87.74%\n",
            "\n"
          ]
        },
        {
          "output_type": "stream",
          "name": "stderr",
          "text": [
            "Validation: 100%|██████████| 79/79 [00:01<00:00, 45.89it/s]\n"
          ]
        },
        {
          "output_type": "stream",
          "name": "stdout",
          "text": [
            "Validation Loss: 0.3933, Sequence Accuracy: 49.58%, Character Accuracy: 86.55%\n",
            "\n",
            "Saved Best Model\n",
            "\n"
          ]
        },
        {
          "output_type": "stream",
          "name": "stderr",
          "text": [
            "Epoch 11/30: 100%|██████████| 625/625 [00:17<00:00, 35.69it/s]\n"
          ]
        },
        {
          "output_type": "stream",
          "name": "stdout",
          "text": [
            "\n",
            "Epoch [11/30], Loss: 0.3406, Sequence Accuracy: 54.91%, Character Accuracy: 88.45%\n",
            "\n"
          ]
        },
        {
          "output_type": "stream",
          "name": "stderr",
          "text": [
            "Validation: 100%|██████████| 79/79 [00:01<00:00, 45.36it/s]\n"
          ]
        },
        {
          "output_type": "stream",
          "name": "stdout",
          "text": [
            "Validation Loss: 0.3808, Sequence Accuracy: 50.54%, Character Accuracy: 86.86%\n",
            "\n",
            "Saved Best Model\n",
            "\n"
          ]
        },
        {
          "output_type": "stream",
          "name": "stderr",
          "text": [
            "Epoch 12/30: 100%|██████████| 625/625 [00:17<00:00, 36.04it/s]\n"
          ]
        },
        {
          "output_type": "stream",
          "name": "stdout",
          "text": [
            "\n",
            "Epoch [12/30], Loss: 0.3340, Sequence Accuracy: 55.35%, Character Accuracy: 88.61%\n",
            "\n"
          ]
        },
        {
          "output_type": "stream",
          "name": "stderr",
          "text": [
            "Validation: 100%|██████████| 79/79 [00:01<00:00, 44.58it/s]\n"
          ]
        },
        {
          "output_type": "stream",
          "name": "stdout",
          "text": [
            "Validation Loss: 0.3780, Sequence Accuracy: 50.58%, Character Accuracy: 86.92%\n",
            "\n",
            "Saved Best Model\n",
            "\n"
          ]
        },
        {
          "output_type": "stream",
          "name": "stderr",
          "text": [
            "Epoch 13/30: 100%|██████████| 625/625 [00:18<00:00, 34.57it/s]\n"
          ]
        },
        {
          "output_type": "stream",
          "name": "stdout",
          "text": [
            "\n",
            "Epoch [13/30], Loss: 0.3285, Sequence Accuracy: 55.81%, Character Accuracy: 88.78%\n",
            "\n"
          ]
        },
        {
          "output_type": "stream",
          "name": "stderr",
          "text": [
            "Validation: 100%|██████████| 79/79 [00:01<00:00, 46.11it/s]\n"
          ]
        },
        {
          "output_type": "stream",
          "name": "stdout",
          "text": [
            "Validation Loss: 0.3735, Sequence Accuracy: 50.90%, Character Accuracy: 87.05%\n",
            "\n",
            "Saved Best Model\n",
            "\n"
          ]
        },
        {
          "output_type": "stream",
          "name": "stderr",
          "text": [
            "Epoch 14/30: 100%|██████████| 625/625 [00:17<00:00, 35.63it/s]\n"
          ]
        },
        {
          "output_type": "stream",
          "name": "stdout",
          "text": [
            "\n",
            "Epoch [14/30], Loss: 0.3228, Sequence Accuracy: 56.32%, Character Accuracy: 88.95%\n",
            "\n"
          ]
        },
        {
          "output_type": "stream",
          "name": "stderr",
          "text": [
            "Validation: 100%|██████████| 79/79 [00:01<00:00, 44.36it/s]\n"
          ]
        },
        {
          "output_type": "stream",
          "name": "stdout",
          "text": [
            "Validation Loss: 0.3777, Sequence Accuracy: 50.66%, Character Accuracy: 86.96%\n",
            "\n",
            "No improvement in sequence accuracy for 1 epoch(s).\n"
          ]
        },
        {
          "output_type": "stream",
          "name": "stderr",
          "text": [
            "Epoch 15/30: 100%|██████████| 625/625 [00:17<00:00, 35.42it/s]\n"
          ]
        },
        {
          "output_type": "stream",
          "name": "stdout",
          "text": [
            "\n",
            "Epoch [15/30], Loss: 0.3169, Sequence Accuracy: 56.87%, Character Accuracy: 89.16%\n",
            "\n"
          ]
        },
        {
          "output_type": "stream",
          "name": "stderr",
          "text": [
            "Validation: 100%|██████████| 79/79 [00:01<00:00, 44.60it/s]\n"
          ]
        },
        {
          "output_type": "stream",
          "name": "stdout",
          "text": [
            "Validation Loss: 0.3697, Sequence Accuracy: 51.24%, Character Accuracy: 87.22%\n",
            "\n",
            "Saved Best Model\n",
            "\n"
          ]
        },
        {
          "output_type": "stream",
          "name": "stderr",
          "text": [
            "Epoch 16/30: 100%|██████████| 625/625 [00:17<00:00, 35.18it/s]\n"
          ]
        },
        {
          "output_type": "stream",
          "name": "stdout",
          "text": [
            "\n",
            "Epoch [16/30], Loss: 0.3062, Sequence Accuracy: 57.84%, Character Accuracy: 89.49%\n",
            "\n"
          ]
        },
        {
          "output_type": "stream",
          "name": "stderr",
          "text": [
            "Validation: 100%|██████████| 79/79 [00:01<00:00, 45.08it/s]\n"
          ]
        },
        {
          "output_type": "stream",
          "name": "stdout",
          "text": [
            "Validation Loss: 0.3655, Sequence Accuracy: 51.58%, Character Accuracy: 87.30%\n",
            "\n",
            "Saved Best Model\n",
            "\n"
          ]
        },
        {
          "output_type": "stream",
          "name": "stderr",
          "text": [
            "Epoch 17/30: 100%|██████████| 625/625 [00:17<00:00, 35.66it/s]\n"
          ]
        },
        {
          "output_type": "stream",
          "name": "stdout",
          "text": [
            "\n",
            "Epoch [17/30], Loss: 0.3031, Sequence Accuracy: 58.26%, Character Accuracy: 89.61%\n",
            "\n"
          ]
        },
        {
          "output_type": "stream",
          "name": "stderr",
          "text": [
            "Validation: 100%|██████████| 79/79 [00:01<00:00, 44.95it/s]\n"
          ]
        },
        {
          "output_type": "stream",
          "name": "stdout",
          "text": [
            "Validation Loss: 0.3633, Sequence Accuracy: 51.98%, Character Accuracy: 87.30%\n",
            "\n",
            "Saved Best Model\n",
            "\n"
          ]
        },
        {
          "output_type": "stream",
          "name": "stderr",
          "text": [
            "Epoch 18/30: 100%|██████████| 625/625 [00:17<00:00, 35.30it/s]\n"
          ]
        },
        {
          "output_type": "stream",
          "name": "stdout",
          "text": [
            "\n",
            "Epoch [18/30], Loss: 0.3003, Sequence Accuracy: 58.53%, Character Accuracy: 89.71%\n",
            "\n"
          ]
        },
        {
          "output_type": "stream",
          "name": "stderr",
          "text": [
            "Validation: 100%|██████████| 79/79 [00:01<00:00, 45.61it/s]\n"
          ]
        },
        {
          "output_type": "stream",
          "name": "stdout",
          "text": [
            "Validation Loss: 0.3638, Sequence Accuracy: 51.60%, Character Accuracy: 87.27%\n",
            "\n",
            "No improvement in sequence accuracy for 1 epoch(s).\n"
          ]
        },
        {
          "output_type": "stream",
          "name": "stderr",
          "text": [
            "Epoch 19/30: 100%|██████████| 625/625 [00:17<00:00, 35.20it/s]\n"
          ]
        },
        {
          "output_type": "stream",
          "name": "stdout",
          "text": [
            "\n",
            "Epoch [19/30], Loss: 0.2975, Sequence Accuracy: 58.81%, Character Accuracy: 89.77%\n",
            "\n"
          ]
        },
        {
          "output_type": "stream",
          "name": "stderr",
          "text": [
            "Validation: 100%|██████████| 79/79 [00:01<00:00, 45.10it/s]\n"
          ]
        },
        {
          "output_type": "stream",
          "name": "stdout",
          "text": [
            "Validation Loss: 0.3625, Sequence Accuracy: 51.76%, Character Accuracy: 87.45%\n",
            "\n",
            "No improvement in sequence accuracy for 2 epoch(s).\n"
          ]
        },
        {
          "output_type": "stream",
          "name": "stderr",
          "text": [
            "Epoch 20/30: 100%|██████████| 625/625 [00:17<00:00, 35.00it/s]\n"
          ]
        },
        {
          "output_type": "stream",
          "name": "stdout",
          "text": [
            "\n",
            "Epoch [20/30], Loss: 0.2949, Sequence Accuracy: 59.00%, Character Accuracy: 89.87%\n",
            "\n"
          ]
        },
        {
          "output_type": "stream",
          "name": "stderr",
          "text": [
            "Validation: 100%|██████████| 79/79 [00:01<00:00, 45.97it/s]\n"
          ]
        },
        {
          "output_type": "stream",
          "name": "stdout",
          "text": [
            "Validation Loss: 0.3617, Sequence Accuracy: 51.88%, Character Accuracy: 87.47%\n",
            "\n",
            "No improvement in sequence accuracy for 3 epoch(s).\n"
          ]
        },
        {
          "output_type": "stream",
          "name": "stderr",
          "text": [
            "Epoch 21/30: 100%|██████████| 625/625 [00:17<00:00, 36.03it/s]\n"
          ]
        },
        {
          "output_type": "stream",
          "name": "stdout",
          "text": [
            "\n",
            "Epoch [21/30], Loss: 0.2892, Sequence Accuracy: 59.67%, Character Accuracy: 90.09%\n",
            "\n"
          ]
        },
        {
          "output_type": "stream",
          "name": "stderr",
          "text": [
            "Validation: 100%|██████████| 79/79 [00:01<00:00, 45.25it/s]\n"
          ]
        },
        {
          "output_type": "stream",
          "name": "stdout",
          "text": [
            "Validation Loss: 0.3596, Sequence Accuracy: 52.02%, Character Accuracy: 87.48%\n",
            "\n",
            "Saved Best Model\n",
            "\n"
          ]
        },
        {
          "output_type": "stream",
          "name": "stderr",
          "text": [
            "Epoch 22/30: 100%|██████████| 625/625 [00:17<00:00, 35.15it/s]\n"
          ]
        },
        {
          "output_type": "stream",
          "name": "stdout",
          "text": [
            "\n",
            "Epoch [22/30], Loss: 0.2874, Sequence Accuracy: 59.77%, Character Accuracy: 90.10%\n",
            "\n"
          ]
        },
        {
          "output_type": "stream",
          "name": "stderr",
          "text": [
            "Validation: 100%|██████████| 79/79 [00:01<00:00, 44.24it/s]\n"
          ]
        },
        {
          "output_type": "stream",
          "name": "stdout",
          "text": [
            "Validation Loss: 0.3605, Sequence Accuracy: 51.94%, Character Accuracy: 87.42%\n",
            "\n",
            "No improvement in sequence accuracy for 1 epoch(s).\n"
          ]
        },
        {
          "output_type": "stream",
          "name": "stderr",
          "text": [
            "Epoch 23/30: 100%|██████████| 625/625 [00:17<00:00, 35.50it/s]\n"
          ]
        },
        {
          "output_type": "stream",
          "name": "stdout",
          "text": [
            "\n",
            "Epoch [23/30], Loss: 0.2861, Sequence Accuracy: 59.91%, Character Accuracy: 90.16%\n",
            "\n"
          ]
        },
        {
          "output_type": "stream",
          "name": "stderr",
          "text": [
            "Validation: 100%|██████████| 79/79 [00:01<00:00, 44.19it/s]\n"
          ]
        },
        {
          "output_type": "stream",
          "name": "stdout",
          "text": [
            "Validation Loss: 0.3594, Sequence Accuracy: 52.28%, Character Accuracy: 87.60%\n",
            "\n",
            "Saved Best Model\n",
            "\n"
          ]
        },
        {
          "output_type": "stream",
          "name": "stderr",
          "text": [
            "Epoch 24/30: 100%|██████████| 625/625 [00:17<00:00, 35.16it/s]\n"
          ]
        },
        {
          "output_type": "stream",
          "name": "stdout",
          "text": [
            "\n",
            "Epoch [24/30], Loss: 0.2845, Sequence Accuracy: 60.08%, Character Accuracy: 90.25%\n",
            "\n"
          ]
        },
        {
          "output_type": "stream",
          "name": "stderr",
          "text": [
            "Validation: 100%|██████████| 79/79 [00:01<00:00, 45.68it/s]\n"
          ]
        },
        {
          "output_type": "stream",
          "name": "stdout",
          "text": [
            "Validation Loss: 0.3588, Sequence Accuracy: 52.06%, Character Accuracy: 87.53%\n",
            "\n",
            "No improvement in sequence accuracy for 1 epoch(s).\n"
          ]
        },
        {
          "output_type": "stream",
          "name": "stderr",
          "text": [
            "Epoch 25/30: 100%|██████████| 625/625 [00:17<00:00, 35.01it/s]\n"
          ]
        },
        {
          "output_type": "stream",
          "name": "stdout",
          "text": [
            "\n",
            "Epoch [25/30], Loss: 0.2833, Sequence Accuracy: 60.16%, Character Accuracy: 90.26%\n",
            "\n"
          ]
        },
        {
          "output_type": "stream",
          "name": "stderr",
          "text": [
            "Validation: 100%|██████████| 79/79 [00:01<00:00, 45.13it/s]\n"
          ]
        },
        {
          "output_type": "stream",
          "name": "stdout",
          "text": [
            "Validation Loss: 0.3599, Sequence Accuracy: 52.04%, Character Accuracy: 87.38%\n",
            "\n",
            "No improvement in sequence accuracy for 2 epoch(s).\n"
          ]
        },
        {
          "output_type": "stream",
          "name": "stderr",
          "text": [
            "Epoch 26/30: 100%|██████████| 625/625 [00:17<00:00, 35.51it/s]\n"
          ]
        },
        {
          "output_type": "stream",
          "name": "stdout",
          "text": [
            "\n",
            "Epoch [26/30], Loss: 0.2803, Sequence Accuracy: 60.65%, Character Accuracy: 90.40%\n",
            "\n"
          ]
        },
        {
          "output_type": "stream",
          "name": "stderr",
          "text": [
            "Validation: 100%|██████████| 79/79 [00:01<00:00, 44.35it/s]\n"
          ]
        },
        {
          "output_type": "stream",
          "name": "stdout",
          "text": [
            "Validation Loss: 0.3587, Sequence Accuracy: 52.28%, Character Accuracy: 87.53%\n",
            "\n",
            "No improvement in sequence accuracy for 3 epoch(s).\n"
          ]
        },
        {
          "output_type": "stream",
          "name": "stderr",
          "text": [
            "Epoch 27/30: 100%|██████████| 625/625 [00:18<00:00, 34.33it/s]\n"
          ]
        },
        {
          "output_type": "stream",
          "name": "stdout",
          "text": [
            "\n",
            "Epoch [27/30], Loss: 0.2795, Sequence Accuracy: 60.73%, Character Accuracy: 90.43%\n",
            "\n"
          ]
        },
        {
          "output_type": "stream",
          "name": "stderr",
          "text": [
            "Validation: 100%|██████████| 79/79 [00:01<00:00, 45.41it/s]\n"
          ]
        },
        {
          "output_type": "stream",
          "name": "stdout",
          "text": [
            "Validation Loss: 0.3582, Sequence Accuracy: 52.40%, Character Accuracy: 87.59%\n",
            "\n",
            "Saved Best Model\n",
            "\n"
          ]
        },
        {
          "output_type": "stream",
          "name": "stderr",
          "text": [
            "Epoch 28/30: 100%|██████████| 625/625 [00:17<00:00, 35.20it/s]\n"
          ]
        },
        {
          "output_type": "stream",
          "name": "stdout",
          "text": [
            "\n",
            "Epoch [28/30], Loss: 0.2788, Sequence Accuracy: 60.60%, Character Accuracy: 90.40%\n",
            "\n"
          ]
        },
        {
          "output_type": "stream",
          "name": "stderr",
          "text": [
            "Validation: 100%|██████████| 79/79 [00:01<00:00, 46.71it/s]\n"
          ]
        },
        {
          "output_type": "stream",
          "name": "stdout",
          "text": [
            "Validation Loss: 0.3583, Sequence Accuracy: 52.40%, Character Accuracy: 87.63%\n",
            "\n",
            "No improvement in sequence accuracy for 1 epoch(s).\n"
          ]
        },
        {
          "output_type": "stream",
          "name": "stderr",
          "text": [
            "Epoch 29/30: 100%|██████████| 625/625 [00:17<00:00, 35.39it/s]\n"
          ]
        },
        {
          "output_type": "stream",
          "name": "stdout",
          "text": [
            "\n",
            "Epoch [29/30], Loss: 0.2782, Sequence Accuracy: 60.90%, Character Accuracy: 90.47%\n",
            "\n"
          ]
        },
        {
          "output_type": "stream",
          "name": "stderr",
          "text": [
            "Validation: 100%|██████████| 79/79 [00:01<00:00, 44.37it/s]\n"
          ]
        },
        {
          "output_type": "stream",
          "name": "stdout",
          "text": [
            "Validation Loss: 0.3590, Sequence Accuracy: 52.48%, Character Accuracy: 87.67%\n",
            "\n",
            "Saved Best Model\n",
            "\n"
          ]
        },
        {
          "output_type": "stream",
          "name": "stderr",
          "text": [
            "Epoch 30/30: 100%|██████████| 625/625 [00:17<00:00, 35.07it/s]\n"
          ]
        },
        {
          "output_type": "stream",
          "name": "stdout",
          "text": [
            "\n",
            "Epoch [30/30], Loss: 0.2775, Sequence Accuracy: 60.92%, Character Accuracy: 90.50%\n",
            "\n"
          ]
        },
        {
          "output_type": "stream",
          "name": "stderr",
          "text": [
            "Validation: 100%|██████████| 79/79 [00:01<00:00, 41.08it/s]\n"
          ]
        },
        {
          "output_type": "stream",
          "name": "stdout",
          "text": [
            "Validation Loss: 0.3584, Sequence Accuracy: 52.20%, Character Accuracy: 87.53%\n",
            "\n",
            "No improvement in sequence accuracy for 1 epoch(s).\n"
          ]
        },
        {
          "output_type": "display_data",
          "data": {
            "text/plain": [
              "<Figure size 1200x1500 with 3 Axes>"
            ],
            "image/png": "[encoded data removed]"
          },
          "metadata": {}
        }
      ]
    },
    {
      "cell_type": "markdown",
      "source": [
        "Initialize pre-trained model here"
      ],
      "metadata": {
        "id": "LmdCs_KuuBNe"
      }
    },
    {
      "cell_type": "code",
      "source": [
        "# Check for cuda\n",
        "device = torch.device('cuda' if torch.cuda.is_available() else 'cpu')\n",
        "# initalize model object\n",
        "model = OCRModel(num_classes=num_classes, hidden_size=256, num_layers=2)\n",
        "# Load in model from file\n",
        "model.load_state_dict(torch.load(\"multi_ocr_model.pth\", map_location=device))\n",
        "model.eval()\n"
      ],
      "metadata": {
        "colab": {
          "base_uri": "https://localhost:8080/"
        },
        "id": "ItIgXGQnrM75",
        "outputId": "16651ebc-2113-43b3-8b45-9bfe8ff64511"
      },
      "execution_count": 27,
      "outputs": [
        {
          "output_type": "stream",
          "name": "stderr",
          "text": [
            "<ipython-input-27-49d953e7472b>:6: FutureWarning: You are using `torch.load` with `weights_only=False` (the current default value), which uses the default pickle module implicitly. It is possible to construct malicious pickle data which will execute arbitrary code during unpickling (See https://github.com/pytorch/pytorch/blob/main/SECURITY.md#untrusted-models for more details). In a future release, the default value for `weights_only` will be flipped to `True`. This limits the functions that could be executed during unpickling. Arbitrary objects will no longer be allowed to be loaded via this mode unless they are explicitly allowlisted by the user via `torch.serialization.add_safe_globals`. We recommend you start setting `weights_only=True` for any use case where you don't have full control of the loaded file. Please open an issue on GitHub for any issues related to this experimental feature.\n",
            "  model.load_state_dict(torch.load(\"best_ocr_model.pth\", map_location=device))\n"
          ]
        },
        {
          "output_type": "execute_result",
          "data": {
            "text/plain": [
              "OCRModel(\n",
              "  (conv1): Conv2d(1, 64, kernel_size=(3, 3), stride=(1, 1), padding=(1, 1))\n",
              "  (bn1): BatchNorm2d(64, eps=1e-05, momentum=0.1, affine=True, track_running_stats=True)\n",
              "  (conv2): Conv2d(64, 128, kernel_size=(3, 3), stride=(1, 1), padding=(1, 1))\n",
              "  (bn2): BatchNorm2d(128, eps=1e-05, momentum=0.1, affine=True, track_running_stats=True)\n",
              "  (conv3): Conv2d(128, 256, kernel_size=(3, 3), stride=(1, 1), padding=(1, 1))\n",
              "  (bn3): BatchNorm2d(256, eps=1e-05, momentum=0.1, affine=True, track_running_stats=True)\n",
              "  (pool): MaxPool2d(kernel_size=2, stride=2, padding=0, dilation=1, ceil_mode=False)\n",
              "  (lstm): LSTM(1024, 256, num_layers=2, batch_first=True, bidirectional=True)\n",
              "  (fc): Linear(in_features=512, out_features=63, bias=True)\n",
              ")"
            ]
          },
          "metadata": {},
          "execution_count": 27
        }
      ]
    },
    {
      "cell_type": "markdown",
      "source": [
        "Test model on test set"
      ],
      "metadata": {
        "id": "zYZKixJKuDiy"
      }
    },
    {
      "cell_type": "code",
      "source": [
        "def test_model(model, test_loader, device='cuda'):\n",
        "    model.eval()  # Set model to evaluation mode\n",
        "    criterion = nn.CTCLoss(blank=blank_idx, zero_infinity=True)  # Define CTC loss\n",
        "\n",
        "    running_loss, correct_seqs, total_seqs, correct_chars, total_chars  = 0.0, 0, 0, 0, 0\n",
        "\n",
        "    with torch.no_grad():  # Disable gradient computation for evaluation\n",
        "        for images, labels in tqdm(test_loader, desc=\"Testing\"):\n",
        "            # Move data to the specified device\n",
        "            images = images.to(device)\n",
        "            labels = labels.to(device)\n",
        "\n",
        "            # Forward pass through the model\n",
        "            outputs = model(images)  # Output: [batch_size, seq_len, num_classes]\n",
        "            outputs = outputs.permute(1, 0, 2)  # Transpose for CTC loss: [seq_len, batch_size, num_classes]\n",
        "            outputs = F.log_softmax(outputs, dim=2)  # Apply log-softmax for CTC\n",
        "\n",
        "            # Flatten targets for CTC loss\n",
        "            targets = labels.contiguous().view(-1)  # Flatten: [batch_size * seq_len]\n",
        "\n",
        "            # Define input_lengths and target_lengths for CTC\n",
        "            batch_size = images.size(0)\n",
        "            input_lengths = torch.full((batch_size,), outputs.size(0), dtype=torch.long, device=device)  # (batch_size)\n",
        "            target_lengths = torch.tensor([len(t) for t in labels], dtype=torch.long, device=device)  # Ground-truth lengths\n",
        "\n",
        "\n",
        "            # Compute the CTC loss\n",
        "            loss = criterion(outputs, targets, input_lengths, target_lengths)\n",
        "            running_loss += loss.item()\n",
        "\n",
        "            # Decode model predictions\n",
        "            decoded_sequences = greedy_decode(outputs.detach().cpu(), blank=blank_idx)\n",
        "            target_sequences = labels.detach().cpu().tolist()\n",
        "\n",
        "            # Compute sequence and character-level accuracy\n",
        "            for i in range(len(decoded_sequences)):\n",
        "                pred = decoded_sequences[i]\n",
        "                target = target_sequences[i]\n",
        "\n",
        "                # Check sequence-level accuracy\n",
        "                if pred == target:\n",
        "                    correct_seqs += 1\n",
        "\n",
        "                # Check character-level accuracy\n",
        "                for j in range(len(target)):\n",
        "                    if j < len(pred) and pred[j] == target[j]:\n",
        "                        correct_chars += 1\n",
        "                total_chars += len(target)\n",
        "\n",
        "            total_seqs += len(decoded_sequences)\n",
        "\n",
        "    # Compute metrics\n",
        "    test_loss = running_loss / len(test_loader)\n",
        "    sequence_accuracy = correct_seqs / total_seqs * 100\n",
        "    character_accuracy = correct_chars / total_chars * 100\n",
        "\n",
        "    # Print results\n",
        "    print(f\"Test Loss: {test_loss:.4f}\")\n",
        "    print(f\"Test Sequence Accuracy: {sequence_accuracy:.2f}%\")\n",
        "    print(f\"Test Character Accuracy: {character_accuracy:.2f}%\")\n",
        "\n",
        "    # Return results as a dictionary\n",
        "    return {\n",
        "        'test_loss': test_loss,\n",
        "        'test_seq_acc': sequence_accuracy,\n",
        "        'test_char_acc': character_accuracy\n",
        "    }\n",
        "\n",
        "\n",
        "# Example usage:\n",
        "test_results = test_model(model, test_loader, device='cuda' if torch.cuda.is_available() else 'cpu')"
      ],
      "metadata": {
        "colab": {
          "base_uri": "https://localhost:8080/"
        },
        "id": "D7epNKy0PaTA",
        "outputId": "a4b1b95e-77b6-45c6-d2c4-585d64e73645"
      },
      "execution_count": 68,
      "outputs": [
        {
          "output_type": "stream",
          "name": "stderr",
          "text": [
            "Testing: 100%|██████████| 79/79 [00:01<00:00, 44.93it/s]"
          ]
        },
        {
          "output_type": "stream",
          "name": "stdout",
          "text": [
            "Test Loss: 0.3549\n",
            "Test Sequence Accuracy: 52.58%\n",
            "Test Character Accuracy: 87.76%\n"
          ]
        },
        {
          "output_type": "stream",
          "name": "stderr",
          "text": [
            "\n"
          ]
        }
      ]
    }
  ]
}