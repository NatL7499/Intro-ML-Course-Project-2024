{
 "cells": [
  {
   "cell_type": "markdown",
   "metadata": {},
   "source": [
    "Install Packages"
   ]
  },
  {
   "cell_type": "code",
   "execution_count": null,
   "metadata": {},
   "outputs": [],
   "source": [
    "%pip install lightning\n",
    "%pip install scikit-build\n",
    "%pip install opencv-python"
   ]
  },
  {
   "cell_type": "markdown",
   "metadata": {},
   "source": [
    "Import Packages"
   ]
  },
  {
   "cell_type": "code",
   "execution_count": 8,
   "metadata": {},
   "outputs": [],
   "source": [
    "import cv2\n",
    "\n",
    "import matplotlib.pyplot as plt\n",
    "import os\n",
    "import numpy as np\n",
    "import requests\n",
    "import zipfile\n",
    "from tqdm import tqdm\n",
    "\n",
    "from sklearn.ensemble import RandomForestClassifier\n",
    "from sklearn.metrics import accuracy_score\n",
    "from skimage.feature import hog"
   ]
  },
  {
   "cell_type": "markdown",
   "metadata": {},
   "source": [
    "Downoad Data"
   ]
  },
  {
   "cell_type": "code",
   "execution_count": 3,
   "metadata": {},
   "outputs": [
    {
     "name": "stdout",
     "output_type": "stream",
     "text": [
      "\n",
      "Dataset already extracted at nist_dataset/extracted/\n"
     ]
    }
   ],
   "source": [
    "root_dir = ''\n",
    "print(root_dir)\n",
    "\n",
    "data_dir = os.path.join(root_dir,\"nist_dataset/\")\n",
    "data_resource = \"https://s3.amazonaws.com/nist-srd/SD19/by_class.zip\"\n",
    "zip_dir = os.path.join(data_dir, \"by_class.zip\")\n",
    "extracted_data_dir = os.path.join(data_dir, \"extracted/\")\n",
    "\n",
    "if not os.path.exists(data_dir):\n",
    "    os.makedirs(data_dir)\n",
    "\n",
    "    with open(zip_dir, 'wb') as out_file:\n",
    "        content = requests.get(data_resource, stream=True).content\n",
    "        out_file.write(content)\n",
    "\n",
    "    with zipfile.ZipFile(zip_dir, 'r') as zip_ref:\n",
    "        # Get list of all files in the ZIP\n",
    "        file_list = zip_ref.namelist()\n",
    "\n",
    "        # Show progress\n",
    "        with tqdm(total=len(file_list), desc=\"Extracting Files\", unit=\"file\") as progress_bar:\n",
    "            for file in file_list:\n",
    "                zip_ref.extract(file, extracted_data_dir)  # Extract each file\n",
    "                progress_bar.update(1)\n",
    "else:\n",
    "    print(f\"Dataset already extracted at {extracted_data_dir}\")"
   ]
  },
  {
   "cell_type": "markdown",
   "metadata": {},
   "source": [
    "Prepare and Load Data Into Memory"
   ]
  },
  {
   "cell_type": "code",
   "execution_count": 5,
   "metadata": {},
   "outputs": [
    {
     "name": "stdout",
     "output_type": "stream",
     "text": [
      "Total samples: 731668\n",
      "Training samples: 585334\n",
      "Validation samples: 73166\n",
      "Test samples: 73168\n"
     ]
    },
    {
     "name": "stderr",
     "output_type": "stream",
     "text": [
      "Loading Dataset: 590000imaage_path [24:23, 403.15imaage_path/s]                   \n",
      "Loading Dataset: 75000imaage_path [03:23, 368.22imaage_path/s]                  \n",
      "Loading Dataset: 75000imaage_path [03:24, 366.17imaage_path/s]                  \n"
     ]
    }
   ],
   "source": [
    "# dataset preparation\n",
    "img_paths, labels = [], []\n",
    "\n",
    "ascii_folders = os.listdir(os.path.join(extracted_data_dir,\"by_class\"))\n",
    "for ascii_num in ascii_folders:\n",
    "    # Convert folder name from hexadecimal to ASCII\n",
    "    label = chr(int(ascii_num, 16))\n",
    "    train_folder = os.path.join(extracted_data_dir,\"by_class\",f\"{ascii_num}\",f\"train_{ascii_num}\")\n",
    "\n",
    "    if os.path.exists(train_folder):\n",
    "        # Loop through each file in the train_folder\n",
    "        for file in os.listdir(train_folder):\n",
    "            if file.endswith(\".png\"):\n",
    "                # Add full path to the list of image paths\n",
    "                img_paths.append(os.path.join(train_folder, file))\n",
    "                labels.append(label)\n",
    "\n",
    "print(f\"Total samples: {len(img_paths)}\")\n",
    "\n",
    "# Define the split ratios\n",
    "train_ratio = 0.8\n",
    "val_ratio = 0.1\n",
    "test_ratio = 0.1\n",
    "\n",
    "# Shuffle Dataset\n",
    "combined = list(zip(img_paths, labels))\n",
    "np.random.seed(67) \n",
    "np.random.shuffle(combined) \n",
    "img_paths, labels = zip(*combined)\n",
    "\n",
    "# Calculate split indices\n",
    "total_samples = len(img_paths)\n",
    "train_end = int(total_samples * train_ratio)\n",
    "val_end = train_end + int(total_samples * val_ratio)\n",
    "\n",
    "# Split the dataset\n",
    "train_img_paths = img_paths[:train_end]\n",
    "val_img_paths = img_paths[train_end:val_end]\n",
    "test_img_paths = img_paths[val_end:]\n",
    "\n",
    "train_labels = labels[:train_end]\n",
    "val_labels = labels[train_end:val_end]\n",
    "test_labels = labels[val_end:]\n",
    "\n",
    "print(f\"Training samples: {len(train_img_paths)}\")\n",
    "print(f\"Validation samples: {len(val_img_paths)}\")\n",
    "print(f\"Test samples: {len(test_img_paths)}\")\n",
    "\n",
    "\n",
    "# define a dataset loader that does the inital transforms\n",
    "def dataset_loader(image_paths):\n",
    "    images = []\n",
    "    with tqdm(total=len(image_paths), desc=\"Loading Dataset\", unit=\"imaage_path\") as progress_bar:\n",
    "        for ii, (image_path, label) in enumerate(zip(image_paths,labels)):\n",
    "\n",
    "            image = cv2.imread(os.path.join(image_path))\n",
    "            image_gray = cv2.cvtColor(image, cv2.COLOR_BGR2GRAY)\n",
    "            resized_image = cv2.resize(image_gray, (32, 32))\n",
    "            transformed_image = ((resized_image/255) - 0.5) / 0.5\n",
    "            images.append(transformed_image)\n",
    "            if ii % 5000 == 0:\n",
    "                progress_bar.update(5000)\n",
    "    return images\n",
    "\n",
    "# load the datasets\n",
    "train_ds = dataset_loader(train_img_paths, train_labels)\n",
    "val_ds = dataset_loader(val_img_paths, val_labels)\n",
    "test_ds = dataset_loader(test_img_paths, test_labels)"
   ]
  },
  {
   "cell_type": "markdown",
   "metadata": {},
   "source": [
    "Extract Features for the Training Data Set"
   ]
  },
  {
   "cell_type": "code",
   "execution_count": 6,
   "metadata": {},
   "outputs": [],
   "source": [
    "def extract_features(image_list):\n",
    "    hog_features = []\n",
    "    moment_features = []\n",
    "    with tqdm(total=len(image_list), desc=\"Computing Features\", unit=\"images\") as progress_bar:\n",
    "        for ii, image in enumerate(image_list):\n",
    "           \n",
    "            # Compute HOG features\n",
    "            hog_feat = hog(image, orientations=9, pixels_per_cell=(8, 8), cells_per_block=(2, 2), block_norm='L2-Hys')\n",
    "            hog_features.append(hog_feat)\n",
    "            \n",
    "            # Compute Hu moments\n",
    "            moments = cv2.moments(image)\n",
    "            hu_moments = cv2.HuMoments(moments).flatten()\n",
    "            moment_features.append(hu_moments)\n",
    "            if ii % 5000 == 0:\n",
    "                progress_bar.update(5000)\n",
    "    \n",
    "    # combine features into list of 1d vectors\n",
    "    hog_features = np.array(hog_features)\n",
    "    moment_features = np.array(moment_features)\n",
    "    combined_features = np.hstack((hog_features, moment_features))\n",
    "    return combined_features\n"
   ]
  },
  {
   "cell_type": "code",
   "execution_count": null,
   "metadata": {},
   "outputs": [],
   "source": [
    "train_images = []\n",
    "for train_entry in train_ds:\n",
    "    train_images.append(train_entry['image'])\n",
    "\n",
    "test_images = []\n",
    "for test_entry in test_ds:\n",
    "    test_images.append(test_entry['image'])\n",
    "\n",
    "train_features = extract_features(train_images)"
   ]
  },
  {
   "cell_type": "markdown",
   "metadata": {},
   "source": [
    "Train the Random Forest and Evaulate on the Test Set"
   ]
  },
  {
   "cell_type": "code",
   "execution_count": 10,
   "metadata": {},
   "outputs": [
    {
     "name": "stdout",
     "output_type": "stream",
     "text": [
      "building tree 1 of 100\n",
      "building tree 2 of 100\n",
      "building tree 3 of 100\n",
      "building tree 4 of 100\n",
      "building tree 5 of 100\n",
      "building tree 6 of 100\n",
      "building tree 7 of 100\n",
      "building tree 8 of 100\n",
      "building tree 9 of 100\n",
      "building tree 10 of 100\n",
      "building tree 11 of 100\n",
      "building tree 12 of 100\n",
      "building tree 13 of 100\n",
      "building tree 14 of 100\n",
      "building tree 15 of 100\n",
      "building tree 16 of 100\n",
      "building tree 17 of 100\n"
     ]
    },
    {
     "name": "stderr",
     "output_type": "stream",
     "text": [
      "[Parallel(n_jobs=1)]: Done  17 tasks      | elapsed:  3.4min\n"
     ]
    },
    {
     "name": "stdout",
     "output_type": "stream",
     "text": [
      "building tree 18 of 100\n",
      "building tree 19 of 100\n",
      "building tree 20 of 100\n",
      "building tree 21 of 100\n",
      "building tree 22 of 100\n",
      "building tree 23 of 100\n",
      "building tree 24 of 100\n",
      "building tree 25 of 100\n",
      "building tree 26 of 100\n",
      "building tree 27 of 100\n",
      "building tree 28 of 100\n",
      "building tree 29 of 100\n",
      "building tree 30 of 100\n",
      "building tree 31 of 100\n",
      "building tree 32 of 100\n",
      "building tree 33 of 100\n",
      "building tree 34 of 100\n",
      "building tree 35 of 100\n",
      "building tree 36 of 100\n",
      "building tree 37 of 100\n",
      "building tree 38 of 100\n",
      "building tree 39 of 100\n",
      "building tree 40 of 100\n",
      "building tree 41 of 100\n",
      "building tree 42 of 100\n",
      "building tree 43 of 100\n",
      "building tree 44 of 100\n",
      "building tree 45 of 100\n",
      "building tree 46 of 100\n",
      "building tree 47 of 100\n",
      "building tree 48 of 100\n",
      "building tree 49 of 100\n",
      "building tree 50 of 100\n",
      "building tree 51 of 100\n",
      "building tree 52 of 100\n",
      "building tree 53 of 100\n",
      "building tree 54 of 100\n",
      "building tree 55 of 100\n",
      "building tree 56 of 100\n",
      "building tree 57 of 100\n",
      "building tree 58 of 100\n",
      "building tree 59 of 100\n",
      "building tree 60 of 100\n",
      "building tree 61 of 100\n",
      "building tree 62 of 100\n",
      "building tree 63 of 100\n",
      "building tree 64 of 100\n",
      "building tree 65 of 100\n",
      "building tree 66 of 100\n",
      "building tree 67 of 100\n",
      "building tree 68 of 100\n",
      "building tree 69 of 100\n",
      "building tree 70 of 100\n",
      "building tree 71 of 100\n"
     ]
    },
    {
     "name": "stderr",
     "output_type": "stream",
     "text": [
      "[Parallel(n_jobs=1)]: Done  71 tasks      | elapsed: 15.5min\n"
     ]
    },
    {
     "name": "stdout",
     "output_type": "stream",
     "text": [
      "building tree 72 of 100\n",
      "building tree 73 of 100\n",
      "building tree 74 of 100\n",
      "building tree 75 of 100\n",
      "building tree 76 of 100\n",
      "building tree 77 of 100\n",
      "building tree 78 of 100\n",
      "building tree 79 of 100\n",
      "building tree 80 of 100\n",
      "building tree 81 of 100\n",
      "building tree 82 of 100\n",
      "building tree 83 of 100\n",
      "building tree 84 of 100\n",
      "building tree 85 of 100\n",
      "building tree 86 of 100\n",
      "building tree 87 of 100\n",
      "building tree 88 of 100\n",
      "building tree 89 of 100\n",
      "building tree 90 of 100\n",
      "building tree 91 of 100\n",
      "building tree 92 of 100\n",
      "building tree 93 of 100\n",
      "building tree 94 of 100\n",
      "building tree 95 of 100\n",
      "building tree 96 of 100\n",
      "building tree 97 of 100\n",
      "building tree 98 of 100\n",
      "building tree 99 of 100\n",
      "building tree 100 of 100\n"
     ]
    },
    {
     "name": "stderr",
     "output_type": "stream",
     "text": [
      "Loading Dataset: 75000images [00:19, 3893.19images/s]                       \n",
      "[Parallel(n_jobs=1)]: Done  17 tasks      | elapsed:    0.9s\n",
      "[Parallel(n_jobs=1)]: Done  71 tasks      | elapsed:    4.1s\n"
     ]
    },
    {
     "name": "stdout",
     "output_type": "stream",
     "text": [
      "Accuracy: 68.20%\n"
     ]
    }
   ],
   "source": [
    "randforest = RandomForestClassifier(n_estimators=100, random_state=67, verbose=5)\n",
    "randforest.fit(train_features, train_labels)\n",
    "\n",
    "test_features = extract_features(test_images)\n",
    "\n"
   ]
  },
  {
   "cell_type": "markdown",
   "metadata": {},
   "source": [
    "Evaulate Performance on the Test Set"
   ]
  },
  {
   "cell_type": "code",
   "execution_count": 24,
   "metadata": {},
   "outputs": [
    {
     "name": "stderr",
     "output_type": "stream",
     "text": [
      "[Parallel(n_jobs=1)]: Done  17 tasks      | elapsed:    0.9s\n",
      "[Parallel(n_jobs=1)]: Done  71 tasks      | elapsed:    4.3s\n"
     ]
    },
    {
     "name": "stdout",
     "output_type": "stream",
     "text": [
      "Accuracy: 68.20%\n"
     ]
    }
   ],
   "source": [
    "test_preds = randforest.predict(test_features)\n",
    "accuracy = accuracy_score(test_labels, test_preds)\n",
    "print(f\"Accuracy: {accuracy * 100:.2f}%\")"
   ]
  },
  {
   "cell_type": "markdown",
   "metadata": {},
   "source": [
    "Generate Confusion Matrix and Plot"
   ]
  },
  {
   "cell_type": "code",
   "execution_count": null,
   "metadata": {},
   "outputs": [
    {
     "name": "stdout",
     "output_type": "stream",
     "text": [
      "tensor(0.6820)\n"
     ]
    },
    {
     "data": {
      "image/png": "[encoded data removed]",
      "text/plain": [
       "<Figure size 2500x2500 with 2 Axes>"
      ]
     },
     "metadata": {},
     "output_type": "display_data"
    }
   ],
   "source": [
    "from sklearn.metrics import confusion_matrix, ConfusionMatrixDisplay\n",
    "import torch\n",
    "from torchmetrics.classification import Accuracy\n",
    "\n",
    "ascii_folders = os.listdir(os.path.join(extracted_data_dir,\"by_class\"))\n",
    "letter_labels = np.asarray([chr(int(ll,16)) for ll in ascii_folders])\n",
    "\n",
    "# order labels alphabetically\n",
    "ordered_indices = np.argsort(letter_labels)\n",
    "letter_labels = letter_labels[ordered_indices]\n",
    "\n",
    "cm = confusion_matrix(test_preds, test_labels, normalize = \"true\")\n",
    "cm = cm[ordered_indices, :]\n",
    "cm = cm[:, ordered_indices]\n",
    "fig, ax = plt.subplots(figsize=(25, 25))\n",
    "\n",
    "ConfusionMatrixDisplay(cm, display_labels = letter_labels).plot(ax = ax, include_values = False)\n",
    "\n",
    "# convert letters to numerical representations\n",
    "test_labels_ord = []\n",
    "for test_label in test_labels:\n",
    "    test_labels_ord.append(ord(test_label))\n",
    "test_labels_ord = np.asarray(test_labels_ord)\n",
    "\n",
    "test_preds_ord = []\n",
    "for test_pred in test_preds:\n",
    "    test_preds_ord.append(ord(test_pred))\n",
    "test_preds_ord = np.asarray(test_preds_ord)\n",
    "\n",
    "test_accuracy = Accuracy(task=\"multiclass\", num_classes=128)\n",
    "test_accuracy.update(torch.asarray(test_preds_ord), torch.asarray(test_labels_ord))\n",
    "t_acc = test_accuracy.compute()\n",
    "print(t_acc)"
   ]
  }
 ],
 "metadata": {
  "kernelspec": {
   "display_name": "Python 3",
   "language": "python",
   "name": "python3"
  },
  "language_info": {
   "codemirror_mode": {
    "name": "ipython",
    "version": 3
   },
   "file_extension": ".py",
   "mimetype": "text/x-python",
   "name": "python",
   "nbconvert_exporter": "python",
   "pygments_lexer": "ipython3",
   "version": "3.10.14"
  }
 },
 "nbformat": 4,
 "nbformat_minor": 2
}
